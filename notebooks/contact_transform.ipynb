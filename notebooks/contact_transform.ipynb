{
 "cells": [
  {
   "cell_type": "markdown",
   "metadata": {},
   "source": [
    "# CONTACT MATRIX TRANSFORMATION"
   ]
  },
  {
   "cell_type": "markdown",
   "metadata": {},
   "source": [
    "## Preliminaries"
   ]
  },
  {
   "cell_type": "code",
   "execution_count": 1,
   "metadata": {},
   "outputs": [
    {
     "name": "stdout",
     "output_type": "stream",
     "text": [
      "/Users/alfonso/workshop/contact/notebooks\n"
     ]
    }
   ],
   "source": [
    "import os \n",
    "import sys\n",
    "\n",
    "import numpy as np\n",
    "import matplotlib.pyplot as plt\n",
    "\n",
    "module_path = os.path.abspath('../src/')\n",
    "if module_path not in sys.path:\n",
    "    sys.path.append(module_path)\n",
    "\n",
    "import utils as ut\n",
    "import plots as pt\n",
    "\n",
    "plt.rcParams.update({'font.size': 15})\n",
    "plt.rc('axes', labelsize=20)\n",
    "plt.rcParams['xtick.labelsize'] = 20\n",
    "plt.rc('font',**{'family':'sans-serif','sans-serif':['Helvetica']})\n",
    "plt.rcParams['pdf.fonttype'] = 42\n",
    "\n",
    "path_cwd = os.getcwd()\n",
    "print(path_cwd)"
   ]
  },
  {
   "cell_type": "markdown",
   "metadata": {},
   "source": [
    "## Update (Time transform)"
   ]
  },
  {
   "cell_type": "markdown",
   "metadata": {},
   "source": [
    "Original contact matrices from Mistry et al. are 2005 dated. For our computational model we use census data from 2019, so we require a temporal updating. We use the method called 'M2 (density correction)' from Arregui et al [https://doi.org/10.1371/journal.pcbi.1006638]: $M_{ij}'=M_{ij}\\frac{N N_j'}{N_j N'}$, where $M_{ij}$ is the original contact matrix, representing the per capita average number of contacts between age group $i$ and $j$, and $M_{ij}'$ is the transformed one, $N_j$ an $N$ are the original age-group $j$ and total population, respectively, and similarly goes for the updated population $N_j'$ and $N'$. "
   ]
  },
  {
   "cell_type": "code",
   "execution_count": 2,
   "metadata": {},
   "outputs": [],
   "source": [
    "id_state = 'California'\n",
    "path_source = os.path.join(path_cwd, '..')\n",
    "\n",
    "contact_05 = ut.import_contact_matrix(id_state=id_state, path=path_source)\n",
    "\n",
    "population_05 = ut.import_age_distribution(id_state=id_state, path=path_source)\n",
    "\n",
    "population_19 = ut.import_age_distribution(id_state=id_state, path=path_source, year=2019, reference=False)\n",
    "\n",
    "contact_19 = ut.update_contact_matrix(contact_05, population_05, population_19)"
   ]
  },
  {
   "cell_type": "markdown",
   "metadata": {},
   "source": [
    "Let's check that contact reciprocity is preserved:"
   ]
  },
  {
   "cell_type": "code",
   "execution_count": 3,
   "metadata": {},
   "outputs": [
    {
     "data": {
      "text/plain": [
       "True"
      ]
     },
     "execution_count": 3,
     "metadata": {},
     "output_type": "execute_result"
    }
   ],
   "source": [
    "ut.check_symmetry_condition(contact_19, population_19)"
   ]
  },
  {
   "cell_type": "markdown",
   "metadata": {},
   "source": [
    "How does the maximum eigenvalue has changed over the years?"
   ]
  },
  {
   "cell_type": "code",
   "execution_count": 4,
   "metadata": {},
   "outputs": [
    {
     "name": "stdout",
     "output_type": "stream",
     "text": [
      "Maximum eigenvalue after updating. 2005: 14.384944251347191. 2019: 13.472919479485212\n"
     ]
    }
   ],
   "source": [
    "max_eigenvalue_05 = np.max(np.linalg.eigvals(contact_05))\n",
    "max_eigenvalue_19 = np.max(np.linalg.eigvals(contact_19))\n",
    "\n",
    "print('Maximum eigenvalue after updating. 2005: {0}. 2019: {1}'.format(max_eigenvalue_05, max_eigenvalue_19))"
   ]
  },
  {
   "cell_type": "markdown",
   "metadata": {},
   "source": [
    "## Coarse-graining (Age resolution transform)"
   ]
  },
  {
   "cell_type": "markdown",
   "metadata": {},
   "source": [
    "The spatial resolution of our model is higher than that of the state administrative division. We resolve up until the ZIP code block, but we limit ourselves to some metropolitan areas, and do not cover the full spatial extent of the state subdivision. Thus, we need to adapt the matrices also in space. However, the census data by age at the ZIP level has a lower age resolution than the one we have currently with the state-level population. Therefore, before particularizing the contact matrix into each ZIP code block, we will perform the coarse-graining procedure and reduce the population and contact matrix age resolution from $A=85$ number of age groups to $A'=3$ number of age groups (underage, adults, elders)."
   ]
  },
  {
   "cell_type": "code",
   "execution_count": null,
   "metadata": {},
   "outputs": [],
   "source": [
    "contact_cg19 = ut.coarse_grain_contact_matrix(contact_19, population_19)\n",
    "\n",
    "population_cg19 = ut.coarse_grain_population(population_19)"
   ]
  },
  {
   "cell_type": "markdown",
   "metadata": {},
   "source": [
    "As before, let's check for the contact reciprocity condition:"
   ]
  },
  {
   "cell_type": "code",
   "execution_count": null,
   "metadata": {},
   "outputs": [
    {
     "data": {
      "text/plain": [
       "True"
      ]
     },
     "execution_count": 6,
     "metadata": {},
     "output_type": "execute_result"
    }
   ],
   "source": [
    "ut.check_symmetry_condition(contact_cg19, population_cg19)"
   ]
  },
  {
   "cell_type": "markdown",
   "metadata": {},
   "source": [
    "And what about the maximum eigenvalue?"
   ]
  },
  {
   "cell_type": "code",
   "execution_count": null,
   "metadata": {},
   "outputs": [
    {
     "name": "stdout",
     "output_type": "stream",
     "text": [
      "Maximum eigenvalue after coarse graining. 2019 original: 14.384944251347196. 2019 coarse-grained: 13.575844144474106\n"
     ]
    }
   ],
   "source": [
    "max_eigenvalue_19 = np.max(np.linalg.eigvals(contact_19))\n",
    "max_eigenvalue_cg19 = np.max(np.linalg.eigvals(contact_cg19))\n",
    "\n",
    "print('Maximum eigenvalue after coarse graining. 2019 original: {0}. 2019 coarse-grained: {1}'.format(max_eigenvalue_19, max_eigenvalue_cg19))"
   ]
  },
  {
   "cell_type": "markdown",
   "metadata": {},
   "source": [
    "## Region adaptation (Space transform)"
   ]
  },
  {
   "cell_type": "markdown",
   "metadata": {},
   "source": [
    "Actually, it doesn't matter whether time or space, the transform that has to undergo the contact matrix is the same one employed before for the time updating. The diference lies now on the fact the original matrix and population data corresponds to the 3-age-groups, year 2019, for the state-level, and we now move to 3-age groups, year 2019, for the ZIP-code-block-level. Then, here: $M_{ij}'=M_{ij}\\frac{N N_j'}{N_j N'}$, $M_{ij}$, $N_j$, and $N$ correspond to the former setting (3-age-groups year 2019 state-level) and $M_{ij}'$, $N_{j}'$, $N'$ to the last setting (3-age groups, year 2019, ZIP-code-block-level)\n"
   ]
  },
  {
   "cell_type": "markdown",
   "metadata": {},
   "source": [
    "#population_patch = load stuff\n",
    "\n",
    "#contact_patch = ut.update_contact_matrix(contact_cg19, population_cg19, population_patch)"
   ]
  },
  {
   "cell_type": "markdown",
   "metadata": {},
   "source": []
  }
 ],
 "metadata": {
  "kernelspec": {
   "display_name": ".contact",
   "language": "python",
   "name": "python3"
  },
  "language_info": {
   "codemirror_mode": {
    "name": "ipython",
    "version": 3
   },
   "file_extension": ".py",
   "mimetype": "text/x-python",
   "name": "python",
   "nbconvert_exporter": "python",
   "pygments_lexer": "ipython3",
   "version": "3.12.2"
  }
 },
 "nbformat": 4,
 "nbformat_minor": 2
}
